{
 "cells": [
  {
   "cell_type": "markdown",
   "metadata": {},
   "source": [
    "# Puzzles mit C++ und Backtracking gelöst"
   ]
  },
  {
   "cell_type": "markdown",
   "metadata": {},
   "source": [
    "die Puzzles gibts von https://www.smartgames.eu/de/spiele-für-einen-spieler/iq-puzzler-pro"
   ]
  },
  {
   "cell_type": "code",
   "execution_count": 1,
   "metadata": {},
   "outputs": [],
   "source": [
    "#include <iostream>\n",
    "#include \"parts.h\"\n",
    "using namespace std;"
   ]
  },
  {
   "cell_type": "code",
   "execution_count": 2,
   "metadata": {},
   "outputs": [],
   "source": [
    "void remove(part *part)\n",
    "{\n",
    "    auto variant = &part->variants[part->vIdx];\n",
    "    for (int i = 0; i < variant->length; i++)\n",
    "    {\n",
    "        board[i + part->yPos] &= ~(variant->data[i] << part->xPos);\n",
    "    }\n",
    "    part->xPos = -1;\n",
    "    placed--;\n",
    "}\n"
   ]
  },
  {
   "cell_type": "code",
   "execution_count": 3,
   "metadata": {},
   "outputs": [],
   "source": [
    "bool checkAndPlace(part *part, int x, int y, int variant)\n",
    "{\n",
    "    checkCount++;\n",
    "    auto toCheck = &part->variants[variant];\n",
    "    auto l = toCheck->length;\n",
    "    auto d = toCheck->data;\n",
    "\n",
    "    int *linePtr = &d[l];\n",
    "    int *boardValue = &board[l] + y;\n",
    "\n",
    "    while (l--)\n",
    "    {\n",
    "        linePtr--;\n",
    "        boardValue--;\n",
    "        int testValue = *linePtr;\n",
    "\n",
    "        bool result = ((testValue ^ *boardValue >> x) & testValue) == testValue;\n",
    "\n",
    "        if (!result)\n",
    "            return false;\n",
    "    }\n",
    "    \n",
    "    // Place\n",
    "    part->xPos = x;\n",
    "    part->yPos = y;\n",
    "    part->vIdx = variant;\n",
    "    placed++;\n",
    "\n",
    "    auto variantPart = &part->variants[variant];\n",
    "    for (int i = 0; i < variantPart->length; i++)\n",
    "    {\n",
    "        board[i + y] |= variantPart->data[i] << x;\n",
    "    }\n",
    "    return true;\n",
    "}"
   ]
  },
  {
   "cell_type": "code",
   "execution_count": 4,
   "metadata": {},
   "outputs": [],
   "source": [
    "bool solve()\n",
    "{\n",
    "    for (int p = 0; p < 12; p++)\n",
    "    {\n",
    "        auto currentPart = &parts[p];\n",
    "        if (currentPart->xPos == -1)\n",
    "        {\n",
    "            for (int v = 0; v < currentPart->vCount; v++)\n",
    "            {\n",
    "                partChecks++;\n",
    "                auto currentVariant = &currentPart->variants[v];\n",
    "\n",
    "                for (int r = 0; r < 5 - currentVariant->length + 1; r++)\n",
    "                {\n",
    "                    for (int c = 0; c < 11 - currentVariant->width + 1; c++)\n",
    "                    {\n",
    "                        if (checkAndPlace(currentPart, c, r, v))\n",
    "                        {\n",
    "                            positiveCheck++;\n",
    "\n",
    "                            if (placed == 12)\n",
    "                            {\n",
    "                                return true; // Finale Lösung gefunden\n",
    "                            }\n",
    "\n",
    "                            auto result = solve();\n",
    "                            if (result)\n",
    "                            {\n",
    "                                return true;\n",
    "                            }\n",
    "                            else\n",
    "                            {\n",
    "                                remove(currentPart);\n",
    "                            }\n",
    "                        }\n",
    "                    }\n",
    "                }\n",
    "            }\n",
    "            return false; // das puzzle wurde nicht gefunden\n",
    "        }\n",
    "    }\n",
    "    return false;\n",
    "}\n"
   ]
  },
  {
   "cell_type": "code",
   "execution_count": 5,
   "metadata": {},
   "outputs": [],
   "source": [
    "void clearBoard() {\n",
    "    for (int i=0; i<5;i++) {\n",
    "        board[i]=0;\n",
    "    }\n",
    "    for (int i=0;i<12;i++) {\n",
    "        parts[i].xPos=-1;\n",
    "    }\n",
    "    placed=0;\n",
    "    partChecks=0;\n",
    "    checkCount=0;\n",
    "    positiveCheck=0;\n",
    "}"
   ]
  },
  {
   "cell_type": "code",
   "execution_count": 6,
   "metadata": {},
   "outputs": [],
   "source": [
    "void init(puzzle p)\n",
    "{\n",
    "    clearBoard();\n",
    "    for (int i = 0; i < p.puzzleCount; i++)\n",
    "    {\n",
    "        auto pu = p.puzzles[i];\n",
    "        part *pa = findPart(pu.id);\n",
    "        if (!checkAndPlace(pa, pu.xPos, pu.yPos, pu.vIdx))\n",
    "        {\n",
    "            std::cout << \"Puzzle kann nicht plaziert werden\" << pu.id << std::endl;\n",
    "        }\n",
    "    }\n",
    "}\n"
   ]
  },
  {
   "cell_type": "code",
   "execution_count": 7,
   "metadata": {},
   "outputs": [],
   "source": [
    "int runWith(puzzle dataSet)\n",
    "{\n",
    "    init(dataSet);\n",
    "\n",
    "    std::cout << \"starting...\" << std::endl;\n",
    "    showBoard();\n",
    "\n",
    "    if (solve())\n",
    "    {\n",
    "        std::cout << \"Die Lösung:\" << std::endl;\n",
    "    }\n",
    "    else\n",
    "    {\n",
    "        std::cout << \"Es gibt leider keine Lösung\" << std::endl;\n",
    "    }\n",
    "    showBoard();\n",
    "\n",
    "    std::cout\n",
    "        << \"Varianten getestet: \" << partChecks << std::endl\n",
    "        << \"Puzzle Positionen getestet: \" << checkCount << std::endl\n",
    "        << \"davon passend: \" << positiveCheck << std::endl;\n",
    "\n",
    "    return 0;\n",
    "}"
   ]
  },
  {
   "cell_type": "code",
   "execution_count": 8,
   "metadata": {},
   "outputs": [
    {
     "name": "stdout",
     "output_type": "stream",
     "text": [
      "starting...\n",
      "\u001b[33my \u001b[33my \u001b[33my \u001b[33my \u001b[92mi \u001b[92mi \u001b[94mb \u001b[94mb \u001b[94mb \u001b[0m. \u001b[0m. \u001b[0m\n",
      "\u001b[0m. \u001b[0m. \u001b[33my \u001b[35mm \u001b[35mm \u001b[92mi \u001b[0m. \u001b[0m. \u001b[94mb \u001b[0m. \u001b[0m. \u001b[0m\n",
      "\u001b[0m. \u001b[0m. \u001b[35mm \u001b[35mm \u001b[92mi \u001b[92mi \u001b[0m. \u001b[0m. \u001b[94mb \u001b[0m. \u001b[0m. \u001b[0m\n",
      "\u001b[0m. \u001b[0m. \u001b[35mm \u001b[0m. \u001b[0m. \u001b[0m. \u001b[0m. \u001b[0m. \u001b[0m. \u001b[0m. \u001b[0m. \u001b[0m\n",
      "\u001b[0m. \u001b[0m. \u001b[0m. \u001b[0m. \u001b[0m. \u001b[0m. \u001b[0m. \u001b[0m. \u001b[0m. \u001b[0m. \u001b[0m. \u001b[0m\n",
      "Die Lösung:\n",
      "\u001b[33my \u001b[33my \u001b[33my \u001b[33my \u001b[92mi \u001b[92mi \u001b[94mb \u001b[94mb \u001b[94mb \u001b[34mu \u001b[34mu \u001b[0m\n",
      "\u001b[96me \u001b[96me \u001b[33my \u001b[35mm \u001b[35mm \u001b[92mi \u001b[36mc \u001b[36mc \u001b[94mb \u001b[95mp \u001b[34mu \u001b[0m\n",
      "\u001b[96me \u001b[96me \u001b[35mm \u001b[35mm \u001b[92mi \u001b[92mi \u001b[36mc \u001b[91mo \u001b[94mb \u001b[95mp \u001b[34mu \u001b[0m\n",
      "\u001b[93ma \u001b[96me \u001b[35mm \u001b[31mr \u001b[31mr \u001b[91mo \u001b[91mo \u001b[91mo \u001b[32mg \u001b[95mp \u001b[95mp \u001b[0m\n",
      "\u001b[93ma \u001b[93ma \u001b[93ma \u001b[93ma \u001b[31mr \u001b[31mr \u001b[91mo \u001b[32mg \u001b[32mg \u001b[32mg \u001b[95mp \u001b[0m\n",
      "Varianten getestet: 33863\n",
      "Puzzle Positionen getestet: 1117641\n",
      "davon passend: 6089\n",
      "364 ms +- 0 ns per loop (mean +- std. dev. of 1 run, 1 loop each)\n"
     ]
    }
   ],
   "source": [
    "%timeit -n 1 -r 1 runWith(master[0]);"
   ]
  },
  {
   "cell_type": "code",
   "execution_count": 9,
   "metadata": {},
   "outputs": [
    {
     "name": "stdout",
     "output_type": "stream",
     "text": [
      "starting...\n",
      "\u001b[95mp \u001b[33my \u001b[33my \u001b[33my \u001b[33my \u001b[91mo \u001b[34mu \u001b[34mu \u001b[34mu \u001b[0m. \u001b[0m. \u001b[0m\n",
      "\u001b[95mp \u001b[95mp \u001b[32mg \u001b[33my \u001b[91mo \u001b[91mo \u001b[34mu \u001b[0m. \u001b[0m. \u001b[0m. \u001b[0m. \u001b[0m\n",
      "\u001b[94mb \u001b[95mp \u001b[32mg \u001b[32mg \u001b[31mr \u001b[91mo \u001b[91mo \u001b[0m. \u001b[0m. \u001b[0m. \u001b[0m. \u001b[0m\n",
      "\u001b[94mb \u001b[95mp \u001b[32mg \u001b[36mc \u001b[31mr \u001b[31mr \u001b[96me \u001b[96me \u001b[0m. \u001b[0m. \u001b[0m. \u001b[0m\n",
      "\u001b[94mb \u001b[94mb \u001b[94mb \u001b[36mc \u001b[36mc \u001b[31mr \u001b[96me \u001b[96me \u001b[96me \u001b[0m. \u001b[0m. \u001b[0m\n",
      "Die Lösung:\n",
      "\u001b[95mp \u001b[33my \u001b[33my \u001b[33my \u001b[33my \u001b[91mo \u001b[34mu \u001b[34mu \u001b[34mu \u001b[93ma \u001b[93ma \u001b[0m\n",
      "\u001b[95mp \u001b[95mp \u001b[32mg \u001b[33my \u001b[91mo \u001b[91mo \u001b[34mu \u001b[92mi \u001b[92mi \u001b[92mi \u001b[93ma \u001b[0m\n",
      "\u001b[94mb \u001b[95mp \u001b[32mg \u001b[32mg \u001b[31mr \u001b[91mo \u001b[91mo \u001b[92mi \u001b[35mm \u001b[92mi \u001b[93ma \u001b[0m\n",
      "\u001b[94mb \u001b[95mp \u001b[32mg \u001b[36mc \u001b[31mr \u001b[31mr \u001b[96me \u001b[96me \u001b[35mm \u001b[35mm \u001b[93ma \u001b[0m\n",
      "\u001b[94mb \u001b[94mb \u001b[94mb \u001b[36mc \u001b[36mc \u001b[31mr \u001b[96me \u001b[96me \u001b[96me \u001b[35mm \u001b[35mm \u001b[0m\n",
      "Varianten getestet: 52\n",
      "Puzzle Positionen getestet: 1525\n",
      "davon passend: 11\n",
      "1.33 ms +- 0 ns per loop (mean +- std. dev. of 1 run, 1 loop each)\n"
     ]
    }
   ],
   "source": [
    "%timeit -n 1 -r 1 runWith(starter[0]);\n"
   ]
  }
 ],
 "metadata": {
  "kernelspec": {
   "display_name": "C++17",
   "language": "C++17",
   "name": "xcpp17"
  },
  "language_info": {
   "codemirror_mode": "text/x-c++src",
   "file_extension": ".cpp",
   "mimetype": "text/x-c++src",
   "name": "c++",
   "version": "17"
  }
 },
 "nbformat": 4,
 "nbformat_minor": 4
}
